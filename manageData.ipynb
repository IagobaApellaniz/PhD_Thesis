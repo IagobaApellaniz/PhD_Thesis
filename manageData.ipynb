{
 "cells": [
  {
   "cell_type": "code",
   "execution_count": 1,
   "metadata": {
    "collapsed": false
   },
   "outputs": [
    {
     "name": "stderr",
     "output_type": "stream",
     "text": [
      "WARNING: Base.SingleAsyncWork is deprecated, use Base.AsyncCondition instead.\n",
      "  likely near /home/iapellaniz/.julia/v0.5/IJulia/src/kernel.jl:6\n",
      "in gc_protect_handle at \n",
      "WARNING: Base.SingleAsyncWork is deprecated, use Base.AsyncCondition instead.\n",
      "  likely near /home/iapellaniz/.julia/v0.5/IJulia/src/kernel.jl:6\n",
      "WARNING: Base.SingleAsyncWork is deprecated, use Base.AsyncCondition instead.\n",
      "  likely near /home/iapellaniz/.julia/v0.5/IJulia/src/kernel.jl:6\n",
      "in gc_protect_handle at /home/iapellaniz/.julia/v0.5/ZMQ/src/ZMQ.jl\n",
      "WARNING: Base.SingleAsyncWork is deprecated, use Base.AsyncCondition instead.\n",
      "  likely near /home/iapellaniz/.julia/v0.5/IJulia/src/kernel.jl:6\n",
      "in gc_protect_handle at /home/iapellaniz/.julia/v0.5/ZMQ/src/ZMQ.jl\n",
      "WARNING: Base.SingleAsyncWork is deprecated, use Base.AsyncCondition instead.\n",
      "  likely near /home/iapellaniz/.julia/v0.5/IJulia/src/kernel.jl:6\n",
      "in gc_protect_handle at /home/iapellaniz/.julia/v0.5/ZMQ/src/ZMQ.jl\n"
     ]
    }
   ],
   "source": [
    "using HDF5"
   ]
  },
  {
   "cell_type": "code",
   "execution_count": 25,
   "metadata": {
    "collapsed": false
   },
   "outputs": [
    {
     "data": {
      "text/plain": [
       "3-element Array{ASCIIString,1}:\n",
       " \"Description\"\n",
       " \"Type\"       \n",
       " \"DS_names\"   "
      ]
     },
     "execution_count": 25,
     "metadata": {},
     "output_type": "execute_result"
    }
   ],
   "source": [
    "# File name for the data shown in the thesis, which references to papers projects\n",
    "F_NAME = \"plotsData.h5\"\n",
    "F_ATTRS = [\"Author\", \"Description\"]\n",
    "\n",
    "# Plots grouped by paper projects\n",
    "G_ATTRS = [\"Description\", \"DOI\"]\n",
    "\n",
    "# Data grouped by plots\n",
    "PG_ATTRS = [\"Description\", \"Type\", \"DS_names\"]"
   ]
  },
  {
   "cell_type": "code",
   "execution_count": 126,
   "metadata": {
    "collapsed": false
   },
   "outputs": [
    {
     "data": {
      "text/plain": [
       "HDF5 data file: plotsData.h5"
      ]
     },
     "execution_count": 126,
     "metadata": {},
     "output_type": "execute_result"
    }
   ],
   "source": [
    "h5root = h5open(\"plotsData.h5\", \"r+\")"
   ]
  },
  {
   "cell_type": "code",
   "execution_count": 127,
   "metadata": {
    "collapsed": false
   },
   "outputs": [
    {
     "data": {
      "text/plain": [
       "\"File to store all data for plots of my PhD thesis\""
      ]
     },
     "execution_count": 127,
     "metadata": {},
     "output_type": "execute_result"
    }
   ],
   "source": [
    "read(attrs(h5root)[\"Description\"])"
   ]
  },
  {
   "cell_type": "code",
   "execution_count": 128,
   "metadata": {
    "collapsed": false
   },
   "outputs": [
    {
     "data": {
      "text/plain": [
       "2-element Array{ByteString,1}:\n",
       " \"Author\"     \n",
       " \"Description\""
      ]
     },
     "execution_count": 128,
     "metadata": {},
     "output_type": "execute_result"
    }
   ],
   "source": [
    "names(attrs(h5root))"
   ]
  },
  {
   "cell_type": "code",
   "execution_count": 68,
   "metadata": {
    "collapsed": false
   },
   "outputs": [
    {
     "name": "stdout",
     "output_type": "stream",
     "text": [
      "HDF5.HDF5File len 1\n",
      "  VicinityDicke: HDF5.HDF5Group len 1\n",
      "    PrecisionOverTheta: HDF5.HDF5Group len 2\n",
      "      precision: HDF5Dataset (200,) : [0.0,0.0150389,0.0595792,0.131944,0.229501 \n",
      "      theta: HDF5Dataset (200,) : [0.0,0.000150754,0.000301508,0.000452261,0.000603015 \n"
     ]
    }
   ],
   "source": [
    "dump(h5root)"
   ]
  },
  {
   "cell_type": "code",
   "execution_count": 53,
   "metadata": {
    "collapsed": false
   },
   "outputs": [
    {
     "data": {
      "text/plain": [
       "HDF5 group: /VicinityDicke (file: plotsData.h5)"
      ]
     },
     "execution_count": 53,
     "metadata": {},
     "output_type": "execute_result"
    }
   ],
   "source": [
    "gvd = h5root[\"VicinityDicke\"]"
   ]
  },
  {
   "cell_type": "code",
   "execution_count": 54,
   "metadata": {
    "collapsed": false
   },
   "outputs": [
    {
     "data": {
      "text/plain": [
       "HDF5 group: /VicinityDicke/PrecisionOverTheta (file: plotsData.h5)"
      ]
     },
     "execution_count": 54,
     "metadata": {},
     "output_type": "execute_result"
    }
   ],
   "source": [
    "gpt = gvd[\"PrecisionOverTheta\"]"
   ]
  },
  {
   "cell_type": "code",
   "execution_count": 55,
   "metadata": {
    "collapsed": false
   },
   "outputs": [
    {
     "data": {
      "text/plain": [
       "0-element Array{ByteString,1}"
      ]
     },
     "execution_count": 55,
     "metadata": {},
     "output_type": "execute_result"
    }
   ],
   "source": [
    "attrs(gpt)"
   ]
  },
  {
   "cell_type": "code",
   "execution_count": 58,
   "metadata": {
    "collapsed": false
   },
   "outputs": [
    {
     "data": {
      "text/plain": [
       "39"
      ]
     },
     "execution_count": 58,
     "metadata": {},
     "output_type": "execute_result"
    }
   ],
   "source": [
    "indx = indmax(read(gpt[\"precision\"]))"
   ]
  },
  {
   "cell_type": "code",
   "execution_count": 59,
   "metadata": {
    "collapsed": false
   },
   "outputs": [
    {
     "data": {
      "text/plain": [
       "3.257452045807663"
      ]
     },
     "execution_count": 59,
     "metadata": {},
     "output_type": "execute_result"
    }
   ],
   "source": [
    "precision_max = read(gpt[\"precision\"])[39]"
   ]
  },
  {
   "cell_type": "code",
   "execution_count": 60,
   "metadata": {
    "collapsed": false
   },
   "outputs": [
    {
     "data": {
      "text/plain": [
       "0.005728643216080402"
      ]
     },
     "execution_count": 60,
     "metadata": {},
     "output_type": "execute_result"
    }
   ],
   "source": [
    "theta_max = read(gpt[\"theta\"])[39]"
   ]
  },
  {
   "cell_type": "code",
   "execution_count": 63,
   "metadata": {
    "collapsed": false
   },
   "outputs": [
    {
     "data": {
      "text/plain": [
       "0.005728643216080402"
      ]
     },
     "execution_count": 63,
     "metadata": {},
     "output_type": "execute_result"
    }
   ],
   "source": [
    "attrspt = attrs(gpt)\n",
    "attrspt[\"Description\"] = \"Data describing the evolution of the precision.\"\n",
    "attrspt[\"Type\"] = \"2D\"\n",
    "attrspt[\"precision_max\"] = precision_max\n",
    "attrspt[\"theta_max\"] = theta_max"
   ]
  },
  {
   "cell_type": "code",
   "execution_count": 64,
   "metadata": {
    "collapsed": false
   },
   "outputs": [
    {
     "data": {
      "text/plain": [
       "4-element Array{ByteString,1}:\n",
       " \"Description\"  \n",
       " \"Type\"         \n",
       " \"precision_max\"\n",
       " \"theta_max\"    "
      ]
     },
     "execution_count": 64,
     "metadata": {},
     "output_type": "execute_result"
    }
   ],
   "source": [
    "names(attrspt)"
   ]
  },
  {
   "cell_type": "code",
   "execution_count": 65,
   "metadata": {
    "collapsed": true
   },
   "outputs": [],
   "source": [
    "close(h5root)"
   ]
  },
  {
   "cell_type": "code",
   "execution_count": 69,
   "metadata": {
    "collapsed": false
   },
   "outputs": [
    {
     "name": "stderr",
     "output_type": "stream",
     "text": [
      "sys:1: PyGIWarning: Gtk was imported without specifying a version first. Use gi.require_version('Gtk', '3.0') before import to ensure that the right version gets loaded.\n"
     ]
    }
   ],
   "source": [
    "using PyPlot"
   ]
  },
  {
   "cell_type": "code",
   "execution_count": 70,
   "metadata": {
    "collapsed": false
   },
   "outputs": [
    {
     "data": {
      "text/plain": [
       "1024×1024 Array{Float32,2}:\n",
       " 0.527094    0.527094    0.527094    …  NaN  NaN  NaN  NaN  NaN  NaN  NaN\n",
       " 0.522168    0.522168    0.522168       NaN  NaN  NaN  NaN  NaN  NaN  NaN\n",
       " 0.517241    0.517241    0.517241       NaN  NaN  NaN  NaN  NaN  NaN  NaN\n",
       " 0.507389    0.507389    0.507389       NaN  NaN  NaN  NaN  NaN  NaN  NaN\n",
       " 0.502463    0.502463    0.502463       NaN  NaN  NaN  NaN  NaN  NaN  NaN\n",
       " 0.497537    0.497537    0.497537    …  NaN  NaN  NaN  NaN  NaN  NaN  NaN\n",
       " 0.487685    0.487685    0.487685       NaN  NaN  NaN  NaN  NaN  NaN  NaN\n",
       " 0.482759    0.482759    0.482759       NaN  NaN  NaN  NaN  NaN  NaN  NaN\n",
       " 0.472906    0.472906    0.472906       NaN  NaN  NaN  NaN  NaN  NaN  NaN\n",
       " 0.46798     0.46798     0.46798        NaN  NaN  NaN  NaN  NaN  NaN  NaN\n",
       " 0.458128    0.458128    0.458128    …  NaN  NaN  NaN  NaN  NaN  NaN  NaN\n",
       " 0.453202    0.453202    0.453202       NaN  NaN  NaN  NaN  NaN  NaN  NaN\n",
       " 0.44335     0.44335     0.44335        NaN  NaN  NaN  NaN  NaN  NaN  NaN\n",
       " ⋮                                   ⋱                   ⋮               \n",
       " 0.00985222  0.00985222  0.0147783      NaN  NaN  NaN  NaN  NaN  NaN  NaN\n",
       " 0.00985222  0.00985222  0.0147783      NaN  NaN  NaN  NaN  NaN  NaN  NaN\n",
       " 0.00985222  0.00985222  0.0147783      NaN  NaN  NaN  NaN  NaN  NaN  NaN\n",
       " 0.00985222  0.00985222  0.0147783   …  NaN  NaN  NaN  NaN  NaN  NaN  NaN\n",
       " 0.00985222  0.00985222  0.0147783      NaN  NaN  NaN  NaN  NaN  NaN  NaN\n",
       " 0.00985222  0.00985222  0.0147783      NaN  NaN  NaN  NaN  NaN  NaN  NaN\n",
       " 0.00985222  0.00985222  0.0147783      NaN  NaN  NaN  NaN  NaN  NaN  NaN\n",
       " 0.00985222  0.00985222  0.0147783      NaN  NaN  NaN  NaN  NaN  NaN  NaN\n",
       " 0.00985222  0.00985222  0.0147783   …  NaN  NaN  NaN  NaN  NaN  NaN  NaN\n",
       " 0.00985222  0.00985222  0.0147783      NaN  NaN  NaN  NaN  NaN  NaN  NaN\n",
       " 0.00985222  0.00492611  0.00492611     NaN  NaN  NaN  NaN  NaN  NaN  NaN\n",
       " 0.0492611   0.0738916   0.0886699      NaN  NaN  NaN  NaN  NaN  NaN  NaN"
      ]
     },
     "execution_count": 70,
     "metadata": {},
     "output_type": "execute_result"
    }
   ],
   "source": [
    "png = imread(\"data/data-spsq-4-blender.png\")\n",
    "data = (png[:,:,1]+png[:,:,2]+png[:,:,3])/3\n",
    "# deal with the alpha chanel\n",
    "achanel = png[:,:,4]\n",
    "map!((x)->if x==0 NaN else 0 end,achanel)\n",
    "data = data+achanel\n",
    "data = (data - minimum(data))/(maximum(data)-minimum(data))"
   ]
  },
  {
   "cell_type": "code",
   "execution_count": 73,
   "metadata": {
    "collapsed": false
   },
   "outputs": [
    {
     "data": {
      "image/png": "[encoded data removed]",
      "text/plain": [
       "PyPlot.Figure(PyObject <matplotlib.figure.Figure object at 0x7f371c95d1d0>)"
      ]
     },
     "metadata": {},
     "output_type": "display_data"
    },
    {
     "data": {
      "text/plain": [
       "PyObject <matplotlib.image.AxesImage object at 0x7f371c79b8d0>"
      ]
     },
     "execution_count": 73,
     "metadata": {},
     "output_type": "execute_result"
    }
   ],
   "source": [
    "imshow(data)"
   ]
  },
  {
   "cell_type": "code",
   "execution_count": 74,
   "metadata": {
    "collapsed": false
   },
   "outputs": [
    {
     "data": {
      "text/plain": [
       "HDF5 data file: plotsData.h5"
      ]
     },
     "execution_count": 74,
     "metadata": {},
     "output_type": "execute_result"
    }
   ],
   "source": [
    "h5root"
   ]
  },
  {
   "cell_type": "code",
   "execution_count": 75,
   "metadata": {
    "collapsed": false
   },
   "outputs": [
    {
     "data": {
      "text/plain": [
       "HDF5 group: /OptimalBound (file: plotsData.h5)"
      ]
     },
     "execution_count": 75,
     "metadata": {},
     "output_type": "execute_result"
    }
   ],
   "source": [
    "g_create(h5root, \"OptimalBound\")"
   ]
  },
  {
   "cell_type": "code",
   "execution_count": 76,
   "metadata": {
    "collapsed": false
   },
   "outputs": [
    {
     "data": {
      "text/plain": [
       "HDF5 group: /OptimalBound (file: plotsData.h5)"
      ]
     },
     "execution_count": 76,
     "metadata": {},
     "output_type": "execute_result"
    }
   ],
   "source": [
    "gob = h5root[\"OptimalBound\"]"
   ]
  },
  {
   "cell_type": "code",
   "execution_count": 77,
   "metadata": {
    "collapsed": false
   },
   "outputs": [
    {
     "data": {
      "text/plain": [
       "HDF5 group: /OptimalBound/SpinSqueezing (file: plotsData.h5)"
      ]
     },
     "execution_count": 77,
     "metadata": {},
     "output_type": "execute_result"
    }
   ],
   "source": [
    "gss = g_create(gob, \"SpinSqueezing\")"
   ]
  },
  {
   "cell_type": "code",
   "execution_count": 79,
   "metadata": {
    "collapsed": false
   },
   "outputs": [
    {
     "data": {
      "text/plain": [
       "\"It is based on the extrapolation optained trough image procesing of the color map\""
      ]
     },
     "execution_count": 79,
     "metadata": {},
     "output_type": "execute_result"
    }
   ],
   "source": [
    "attrs(gss)[\"Description\"] = \"Data to plot the optimal bound for the precision\"\n",
    "attrs(gss)[\"Type\"] = \"3D\"\n",
    "attrs(gss)[\"XLim\"] = [0,2]\n",
    "attrs(gss)[\"YLim\"] = [0,4]\n",
    "attrs(gss)[\"Data description\"] = \"It is based on the extrapolation optained trough image procesing of the color map\"\n"
   ]
  },
  {
   "cell_type": "code",
   "execution_count": 122,
   "metadata": {
    "collapsed": false
   },
   "outputs": [
    {
     "name": "stderr",
     "output_type": "stream",
     "text": [
      "HDF5-DIAG: Error detected in HDF5 (1.8.15-patch1) thread 0:\n",
      "  #000: ../../src/H5D.c line 194 in H5Dcreate2(): unable to create dataset\n",
      "    major: Dataset\n",
      "    minor: Unable to initialize object\n",
      "  #001: ../../src/H5Dint.c line 453 in H5D__create_named(): unable to create and link to dataset\n",
      "    major: Dataset\n",
      "    minor: Unable to initialize object\n",
      "  #002: ../../src/H5L.c line 1638 in H5L_link_object(): unable to create new link to object\n",
      "    major: Links\n",
      "    minor: Unable to initialize object\n",
      "  #003: ../../src/H5L.c line 1882 in H5L_create_real(): can't insert link\n",
      "    major: Symbol table\n",
      "    minor: Unable to insert object\n",
      "  #004: ../../src/H5Gtraverse.c line 861 in H5G_traverse(): internal path traversal failed\n",
      "    major: Symbol table\n",
      "    minor: Object not found\n",
      "  #005: ../../src/H5Gtraverse.c line 641 in H5G_traverse_real(): traversal operator failed\n",
      "    major: Symbol table\n",
      "    minor: Callback failed\n",
      "  #006: ../../src/H5L.c line 1674 in H5L_link_cb(): name already exists\n",
      "    major: Symbol table\n",
      "    minor: Object already exists\n"
     ]
    },
    {
     "ename": "LoadError",
     "evalue": "LoadError: Error creating dataset /OptimalBound/SpinSqueezing/presision\nwhile loading In[122], in expression starting on line 1",
     "output_type": "error",
     "traceback": [
      "LoadError: Error creating dataset /OptimalBound/SpinSqueezing/presision\nwhile loading In[122], in expression starting on line 1",
      ""
     ]
    }
   ],
   "source": [
    "d_create(h5root[\"OptimalBound\"][\"SpinSqueezing\"], \"presision\", data)"
   ]
  },
  {
   "cell_type": "code",
   "execution_count": 123,
   "metadata": {
    "collapsed": false
   },
   "outputs": [
    {
     "data": {
      "text/plain": [
       "HDF5 group: /OptimalBounds (file: plotsData.h5)"
      ]
     },
     "execution_count": 123,
     "metadata": {},
     "output_type": "execute_result"
    }
   ],
   "source": [
    "gop2 = h5root[\"OptimalBounds\"]"
   ]
  },
  {
   "cell_type": "code",
   "execution_count": 124,
   "metadata": {
    "collapsed": false
   },
   "outputs": [
    {
     "data": {
      "text/plain": [
       "0-element Array{ByteString,1}"
      ]
     },
     "execution_count": 124,
     "metadata": {},
     "output_type": "execute_result"
    }
   ],
   "source": []
  },
  {
   "cell_type": "code",
   "execution_count": 129,
   "metadata": {
    "collapsed": false
   },
   "outputs": [
    {
     "name": "stdout",
     "output_type": "stream",
     "text": [
      "HDF5.HDF5File len 3\n",
      "  OptimalBound: HDF5.HDF5Group len 2\n",
      "    SpinSqueezing: HDF5.HDF5Group len 1\n",
      "      presision: HDF5Dataset (1024,1024) : [0.0,0.0,0.0,0.0,0.0 \n",
      "    presision: HDF5Dataset (1024,1024) : [0.0,0.0,0.0,0.0,0.0 \n",
      "  OptimalBounds: HDF5.HDF5Group len 0\n",
      "  VicinityDicke: HDF5.HDF5Group len 1\n",
      "    PrecisionOverTheta: HDF5.HDF5Group len 2\n",
      "      precision: HDF5Dataset (200,) : [0.0,0.0150389,0.0595792,0.131944,0.229501 \n",
      "      theta: HDF5Dataset (200,) : [0.0,0.000150754,0.000301508,0.000452261,0.000603015 \n"
     ]
    }
   ],
   "source": [
    "dump(h5root)"
   ]
  },
  {
   "cell_type": "code",
   "execution_count": 106,
   "metadata": {
    "collapsed": false
   },
   "outputs": [
    {
     "data": {
      "text/plain": [
       "HDF5 data file: plotsData.h5"
      ]
     },
     "execution_count": 106,
     "metadata": {},
     "output_type": "execute_result"
    }
   ],
   "source": [
    "gob"
   ]
  },
  {
   "cell_type": "code",
   "execution_count": 112,
   "metadata": {
    "collapsed": true
   },
   "outputs": [],
   "source": [
    "close(h5root)"
   ]
  },
  {
   "cell_type": "code",
   "execution_count": 116,
   "metadata": {
    "collapsed": false
   },
   "outputs": [
    {
     "data": {
      "text/plain": [
       "1024×1024 Array{Float32,2}:\n",
       " 0.527094    0.527094    0.527094    …  NaN  NaN  NaN  NaN  NaN  NaN  NaN\n",
       " 0.522168    0.522168    0.522168       NaN  NaN  NaN  NaN  NaN  NaN  NaN\n",
       " 0.517241    0.517241    0.517241       NaN  NaN  NaN  NaN  NaN  NaN  NaN\n",
       " 0.507389    0.507389    0.507389       NaN  NaN  NaN  NaN  NaN  NaN  NaN\n",
       " 0.502463    0.502463    0.502463       NaN  NaN  NaN  NaN  NaN  NaN  NaN\n",
       " 0.497537    0.497537    0.497537    …  NaN  NaN  NaN  NaN  NaN  NaN  NaN\n",
       " 0.487685    0.487685    0.487685       NaN  NaN  NaN  NaN  NaN  NaN  NaN\n",
       " 0.482759    0.482759    0.482759       NaN  NaN  NaN  NaN  NaN  NaN  NaN\n",
       " 0.472906    0.472906    0.472906       NaN  NaN  NaN  NaN  NaN  NaN  NaN\n",
       " 0.46798     0.46798     0.46798        NaN  NaN  NaN  NaN  NaN  NaN  NaN\n",
       " 0.458128    0.458128    0.458128    …  NaN  NaN  NaN  NaN  NaN  NaN  NaN\n",
       " 0.453202    0.453202    0.453202       NaN  NaN  NaN  NaN  NaN  NaN  NaN\n",
       " 0.44335     0.44335     0.44335        NaN  NaN  NaN  NaN  NaN  NaN  NaN\n",
       " ⋮                                   ⋱                   ⋮               \n",
       " 0.00985222  0.00985222  0.0147783      NaN  NaN  NaN  NaN  NaN  NaN  NaN\n",
       " 0.00985222  0.00985222  0.0147783      NaN  NaN  NaN  NaN  NaN  NaN  NaN\n",
       " 0.00985222  0.00985222  0.0147783      NaN  NaN  NaN  NaN  NaN  NaN  NaN\n",
       " 0.00985222  0.00985222  0.0147783   …  NaN  NaN  NaN  NaN  NaN  NaN  NaN\n",
       " 0.00985222  0.00985222  0.0147783      NaN  NaN  NaN  NaN  NaN  NaN  NaN\n",
       " 0.00985222  0.00985222  0.0147783      NaN  NaN  NaN  NaN  NaN  NaN  NaN\n",
       " 0.00985222  0.00985222  0.0147783      NaN  NaN  NaN  NaN  NaN  NaN  NaN\n",
       " 0.00985222  0.00985222  0.0147783      NaN  NaN  NaN  NaN  NaN  NaN  NaN\n",
       " 0.00985222  0.00985222  0.0147783   …  NaN  NaN  NaN  NaN  NaN  NaN  NaN\n",
       " 0.00985222  0.00985222  0.0147783      NaN  NaN  NaN  NaN  NaN  NaN  NaN\n",
       " 0.00985222  0.00492611  0.00492611     NaN  NaN  NaN  NaN  NaN  NaN  NaN\n",
       " 0.0492611   0.0738916   0.0886699      NaN  NaN  NaN  NaN  NaN  NaN  NaN"
      ]
     },
     "execution_count": 116,
     "metadata": {},
     "output_type": "execute_result"
    }
   ],
   "source": [
    "data"
   ]
  },
  {
   "cell_type": "code",
   "execution_count": null,
   "metadata": {
    "collapsed": true
   },
   "outputs": [],
   "source": []
  }
 ],
 "metadata": {
  "kernelspec": {
   "display_name": "Julia 0.5.0-dev",
   "language": "julia",
   "name": "julia-0.5"
  },
  "language_info": {
   "file_extension": ".jl",
   "mimetype": "application/julia",
   "name": "julia",
   "version": "0.5.0"
  }
 },
 "nbformat": 4,
 "nbformat_minor": 0
}
