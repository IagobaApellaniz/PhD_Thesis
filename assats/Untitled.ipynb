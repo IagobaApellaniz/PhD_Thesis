{
 "cells": [
  {
   "cell_type": "markdown",
   "metadata": {},
   "source": [
    "# Create maps for representing Bloch spheres"
   ]
  },
  {
   "cell_type": "markdown",
   "metadata": {},
   "source": [
    "For that I'll use the Husimi distribution of totally polarized states poinitg onto some direction $\\bf{n}$\n",
    "$$Q(\\phi,\\theta) = \\frac{1}{2\\pi} \\langle Nj |_{\\bf{n}} \\varrho | Nj \\rangle_{\\bf{n}}$$"
   ]
  },
  {
   "cell_type": "markdown",
   "metadata": {},
   "source": [
    "## Load libraries"
   ]
  },
  {
   "cell_type": "code",
   "execution_count": null,
   "metadata": {
    "collapsed": true
   },
   "outputs": [],
   "source": [
    "using HDF5, PyPlot\n",
    "\n",
    "include(\"\")"
   ]
  },
  {
   "cell_type": "code",
   "execution_count": 2,
   "metadata": {
    "collapsed": false
   },
   "outputs": [
    {
     "data": {
      "text/plain": [
       "2x2 Array{Int64,2}:\n",
       " 1  0\n",
       " 0  0"
      ]
     },
     "execution_count": 2,
     "metadata": {},
     "output_type": "execute_result"
    }
   ],
   "source": [
    "rho = [1 0;\n",
    "       0 0]\n",
    "\n",
    "function rotate_euler(ϕ,θ,) ="
   ]
  },
  {
   "cell_type": "markdown",
   "metadata": {},
   "source": [
    "Create the map"
   ]
  },
  {
   "cell_type": "code",
   "execution_count": null,
   "metadata": {
    "collapsed": true
   },
   "outputs": [],
   "source": [
    "fig = figure()\n",
    "fig[:set_size_inches](5, 5)\n",
    "ax = axes([0,0,1.,1.], frameon=false)\n",
    "ax[:set_axis_off]()\n",
    "\n",
    "ax[:get_xaxis]()[:set_visible](false)\n",
    "ax[:get_yaxis]()[:set_visible](false)\n",
    "\n",
    "fig[:add_axes](ax)\n",
    "ax[:imshow](z,cmap=\"viridis_r\", interpolation=\"bilinear\", origin=\"lower\")\n",
    "ax[:margins](0,0)\n",
    "savefig(\"blochMap.png\", bbox_inches=\"tight\", transparent=true, pad_inches=0)"
   ]
  }
 ],
 "metadata": {
  "kernelspec": {
   "display_name": "Julia 0.5.0-dev",
   "language": "julia",
   "name": "julia-0.5"
  },
  "language_info": {
   "file_extension": ".jl",
   "mimetype": "application/julia",
   "name": "julia",
   "version": "0.5.0"
  }
 },
 "nbformat": 4,
 "nbformat_minor": 0
}
