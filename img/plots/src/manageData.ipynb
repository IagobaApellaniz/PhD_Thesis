{
 "cells": [
  {
   "cell_type": "code",
   "execution_count": 1,
   "metadata": {
    "collapsed": false
   },
   "outputs": [
    {
     "name": "stderr",
     "output_type": "stream",
     "text": [
      "WARNING: Base.SingleAsyncWork is deprecated, use Base.AsyncCondition instead.\n",
      "  likely near /home/iapellaniz/.julia/v0.5/IJulia/src/kernel.jl:6\n",
      "in gc_protect_handle at \n",
      "WARNING: Base.SingleAsyncWork is deprecated, use Base.AsyncCondition instead.\n",
      "  likely near /home/iapellaniz/.julia/v0.5/IJulia/src/kernel.jl:6\n",
      "WARNING: Base.SingleAsyncWork is deprecated, use Base.AsyncCondition instead.\n",
      "  likely near /home/iapellaniz/.julia/v0.5/IJulia/src/kernel.jl:6\n",
      "in gc_protect_handle at /home/iapellaniz/.julia/v0.5/ZMQ/src/ZMQ.jl\n",
      "WARNING: Base.SingleAsyncWork is deprecated, use Base.AsyncCondition instead.\n",
      "  likely near /home/iapellaniz/.julia/v0.5/IJulia/src/kernel.jl:6\n",
      "in gc_protect_handle at /home/iapellaniz/.julia/v0.5/ZMQ/src/ZMQ.jl\n",
      "WARNING: Base.SingleAsyncWork is deprecated, use Base.AsyncCondition instead.\n",
      "  likely near /home/iapellaniz/.julia/v0.5/IJulia/src/kernel.jl:6\n",
      "in gc_protect_handle at /home/iapellaniz/.julia/v0.5/ZMQ/src/ZMQ.jl\n"
     ]
    }
   ],
   "source": [
    "using HDF5"
   ]
  },
  {
   "cell_type": "code",
   "execution_count": 25,
   "metadata": {
    "collapsed": false
   },
   "outputs": [
    {
     "data": {
      "text/plain": [
       "3-element Array{ASCIIString,1}:\n",
       " \"Description\"\n",
       " \"Type\"       \n",
       " \"DS_names\"   "
      ]
     },
     "execution_count": 25,
     "metadata": {},
     "output_type": "execute_result"
    }
   ],
   "source": [
    "# File name for the data shown in the thesis, which references to papers projects\n",
    "F_NAME = \"plotsData.h5\"\n",
    "F_ATTRS = [\"Author\", \"Description\"]\n",
    "\n",
    "# Plots grouped by paper projects\n",
    "G_ATTRS = [\"Description\", \"DOI\"]\n",
    "\n",
    "# Data grouped by plots\n",
    "PG_ATTRS = [\"Description\", \"Type\", \"DS_names\"]"
   ]
  },
  {
   "cell_type": "code",
   "execution_count": 38,
   "metadata": {
    "collapsed": false
   },
   "outputs": [
    {
     "data": {
      "text/plain": [
       "HDF5 data file: plotsData.h5"
      ]
     },
     "execution_count": 38,
     "metadata": {},
     "output_type": "execute_result"
    }
   ],
   "source": [
    "h5root = h5open(\"plotsData.h5\", \"r+\")"
   ]
  },
  {
   "cell_type": "code",
   "execution_count": 39,
   "metadata": {
    "collapsed": false
   },
   "outputs": [
    {
     "name": "stdout",
     "output_type": "stream",
     "text": [
      "HDF5.HDF5File len 2\n",
      "  OptimalBound: HDF5.HDF5Group len 1\n",
      "    SpinSqueezing: HDF5.HDF5Group len 1\n",
      "      presision: HDF5Dataset (1024,1024) : [0.527094,0.527094,0.527094,0.527094,0.527094 \n",
      "  VicinityDicke: HDF5.HDF5Group len 1\n",
      "    PrecisionOverTheta: HDF5.HDF5Group len 2\n",
      "      precision: HDF5Dataset (200,) : [0.0,0.0150389,0.0595792,0.131944,0.229501 \n",
      "      theta: HDF5Dataset (200,) : [0.0,0.000150754,0.000301508,0.000452261,0.000603015 \n"
     ]
    }
   ],
   "source": [
    "dump(h5root)"
   ]
  },
  {
   "cell_type": "code",
   "execution_count": 44,
   "metadata": {
    "collapsed": false
   },
   "outputs": [
    {
     "ename": "LoadError",
     "evalue": "LoadError: MethodError: no method matching d_create(::HDF5.HDF5Group, ::ASCIIString)\nClosest candidates are:\n  d_create(::Union{HDF5.HDF5File,HDF5.HDF5Group}, ::Union{ASCIIString,UTF8String}, !Matched::HDF5.HDF5Datatype, !Matched::HDF5.HDF5Dataspace)\n  d_create(::Union{HDF5.HDF5File,HDF5.HDF5Group}, ::Union{ASCIIString,UTF8String}, !Matched::HDF5.HDF5Datatype, !Matched::HDF5.HDF5Dataspace, !Matched::HDF5.HDF5Properties)\n  d_create(::Union{HDF5.HDF5File,HDF5.HDF5Group}, ::Union{ASCIIString,UTF8String}, !Matched::HDF5.HDF5Datatype, !Matched::HDF5.HDF5Dataspace, !Matched::HDF5.HDF5Properties, !Matched::HDF5.HDF5Properties)\n  ...\nwhile loading In[44], in expression starting on line 1",
     "output_type": "error",
     "traceback": [
      "LoadError: MethodError: no method matching d_create(::HDF5.HDF5Group, ::ASCIIString)\nClosest candidates are:\n  d_create(::Union{HDF5.HDF5File,HDF5.HDF5Group}, ::Union{ASCIIString,UTF8String}, !Matched::HDF5.HDF5Datatype, !Matched::HDF5.HDF5Dataspace)\n  d_create(::Union{HDF5.HDF5File,HDF5.HDF5Group}, ::Union{ASCIIString,UTF8String}, !Matched::HDF5.HDF5Datatype, !Matched::HDF5.HDF5Dataspace, !Matched::HDF5.HDF5Properties)\n  d_create(::Union{HDF5.HDF5File,HDF5.HDF5Group}, ::Union{ASCIIString,UTF8String}, !Matched::HDF5.HDF5Datatype, !Matched::HDF5.HDF5Dataspace, !Matched::HDF5.HDF5Properties, !Matched::HDF5.HDF5Properties)\n  ...\nwhile loading In[44], in expression starting on line 1",
      ""
     ]
    }
   ],
   "source": [
    "d_create(h5root[\"OptimalBound\"][\"SpinSqueezing\"],\"physBoundary\")"
   ]
  },
  {
   "cell_type": "code",
   "execution_count": 47,
   "metadata": {
    "collapsed": false
   },
   "outputs": [],
   "source": [
    "write(h5root[\"OptimalBound\"][\"SpinSqueezing\"],\"precision\",precision)"
   ]
  },
  {
   "cell_type": "code",
   "execution_count": 45,
   "metadata": {
    "collapsed": false
   },
   "outputs": [
    {
     "data": {
      "text/plain": [
       "0"
      ]
     },
     "execution_count": 45,
     "metadata": {},
     "output_type": "execute_result"
    }
   ],
   "source": [
    "o_delete(h5root[\"OptimalBound\"][\"SpinSqueezing\"][\"presision\"])"
   ]
  },
  {
   "cell_type": "code",
   "execution_count": 48,
   "metadata": {
    "collapsed": true
   },
   "outputs": [],
   "source": [
    "close(h5root)"
   ]
  },
  {
   "cell_type": "code",
   "execution_count": null,
   "metadata": {
    "collapsed": true
   },
   "outputs": [],
   "source": []
  }
 ],
 "metadata": {
  "kernelspec": {
   "display_name": "Julia 0.5.0-dev",
   "language": "julia",
   "name": "julia-0.5"
  },
  "language_info": {
   "file_extension": ".jl",
   "mimetype": "application/julia",
   "name": "julia",
   "version": "0.5.0"
  }
 },
 "nbformat": 4,
 "nbformat_minor": 0
}
